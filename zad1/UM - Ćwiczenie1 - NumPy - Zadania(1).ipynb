{
 "cells": [
  {
   "cell_type": "markdown",
   "id": "e36bc53d",
   "metadata": {},
   "source": [
    "# Uczenie maszynowe - Ćwiczenie 1 - NumPy - Zadania"
   ]
  },
  {
   "cell_type": "markdown",
   "id": "38a23cc5",
   "metadata": {},
   "source": [
    "**Zadanie 1**. Sprawdź do czego służą i przetestuj działanie następujących funkcji tworzących tablice `ndarray`:\n",
    "1. `asarray`\n",
    "2. `ones_like`\n",
    "3. `zeros_like`\n",
    "4. `full`\n",
    "5. `full_like`\n",
    "6. `eye`\n",
    "7. `identity`"
   ]
  },
  {
   "cell_type": "code",
   "execution_count": 1,
   "id": "cbb497e9",
   "metadata": {},
   "outputs": [],
   "source": [
    "import numpy as np"
   ]
  },
  {
   "cell_type": "code",
   "execution_count": 2,
   "id": "40929d4a",
   "metadata": {},
   "outputs": [],
   "source": [
    "a = [1,2,3,4,5,6,7]"
   ]
  },
  {
   "cell_type": "code",
   "execution_count": 3,
   "id": "db36a24f",
   "metadata": {},
   "outputs": [
    {
     "data": {
      "text/plain": [
       "array([1, 2, 3, 4, 5, 6, 7])"
      ]
     },
     "execution_count": 3,
     "metadata": {},
     "output_type": "execute_result"
    }
   ],
   "source": [
    "#asarray\n",
    "\n",
    "np.asarray(a)"
   ]
  },
  {
   "cell_type": "code",
   "execution_count": 4,
   "id": "ee25a22c",
   "metadata": {},
   "outputs": [
    {
     "data": {
      "text/plain": [
       "array([[0, 0, 0, 0],\n",
       "       [0, 0, 0, 0]])"
      ]
     },
     "execution_count": 4,
     "metadata": {},
     "output_type": "execute_result"
    }
   ],
   "source": [
    "#one_like\n",
    "#zero_like\n",
    "x = np.arange(8)\n",
    "x = x.reshape((2,4))\n",
    "x\n",
    "\n",
    "np.ones_like(x)\n",
    "\n",
    "np.zeros_like(x)\n"
   ]
  },
  {
   "cell_type": "code",
   "execution_count": 5,
   "id": "bad593eb",
   "metadata": {},
   "outputs": [
    {
     "data": {
      "text/plain": [
       "array([[12.3, 12.3, 12.3, 12.3, 12.3],\n",
       "       [12.3, 12.3, 12.3, 12.3, 12.3],\n",
       "       [12.3, 12.3, 12.3, 12.3, 12.3],\n",
       "       [12.3, 12.3, 12.3, 12.3, 12.3],\n",
       "       [12.3, 12.3, 12.3, 12.3, 12.3]])"
      ]
     },
     "execution_count": 5,
     "metadata": {},
     "output_type": "execute_result"
    }
   ],
   "source": [
    "#full\n",
    "np.full((5,5), 12.3)"
   ]
  },
  {
   "cell_type": "code",
   "execution_count": 6,
   "id": "0136b0ad",
   "metadata": {},
   "outputs": [
    {
     "data": {
      "text/plain": [
       "array([[10, 10, 10, 10, 10],\n",
       "       [10, 10, 10, 10, 10]])"
      ]
     },
     "execution_count": 6,
     "metadata": {},
     "output_type": "execute_result"
    }
   ],
   "source": [
    "y = np.arange(10, dtype = int).reshape(2, 5)\n",
    "\n",
    "np.full_like(y, 10.0)"
   ]
  },
  {
   "cell_type": "code",
   "execution_count": 7,
   "id": "868fb09f",
   "metadata": {},
   "outputs": [
    {
     "data": {
      "text/plain": [
       "array([[1., 0., 0., 0., 0., 0.],\n",
       "       [0., 1., 0., 0., 0., 0.],\n",
       "       [0., 0., 1., 0., 0., 0.]])"
      ]
     },
     "execution_count": 7,
     "metadata": {},
     "output_type": "execute_result"
    }
   ],
   "source": [
    "#eye\n",
    "np.eye(3,6)"
   ]
  },
  {
   "cell_type": "code",
   "execution_count": 8,
   "id": "b95c1f53",
   "metadata": {},
   "outputs": [
    {
     "data": {
      "text/plain": [
       "array([[1., 0., 0., 0., 0.],\n",
       "       [0., 1., 0., 0., 0.],\n",
       "       [0., 0., 1., 0., 0.],\n",
       "       [0., 0., 0., 1., 0.],\n",
       "       [0., 0., 0., 0., 1.]])"
      ]
     },
     "execution_count": 8,
     "metadata": {},
     "output_type": "execute_result"
    }
   ],
   "source": [
    "#identity\n",
    "\n",
    "np.identity(5)"
   ]
  },
  {
   "cell_type": "markdown",
   "id": "b4d546ea",
   "metadata": {},
   "source": [
    "**Zadanie 2**. Sprawdź, w jaki sposób są konwertowane przez funkcję `astype` niecałkowite wartości zmiennoprzecinkowe na wartości całkowite."
   ]
  },
  {
   "cell_type": "code",
   "execution_count": 9,
   "id": "b4bcf22b",
   "metadata": {},
   "outputs": [
    {
     "name": "stdout",
     "output_type": "stream",
     "text": [
      "[1 2 3]\n",
      "int32\n"
     ]
    }
   ],
   "source": [
    "arr = np.array([1.1, 2.1, 3.1])\n",
    "\n",
    "newarr = arr.astype(int)\n",
    "\n",
    "print(newarr)\n",
    "print(newarr.dtype)  "
   ]
  },
  {
   "cell_type": "markdown",
   "id": "65a3dde7",
   "metadata": {},
   "source": [
    "Szczegółowa informacja o typach wykorzystywanych w NumPy: https://numpy.org/doc/stable/reference/arrays.scalars.html#"
   ]
  },
  {
   "cell_type": "markdown",
   "id": "3a72737f",
   "metadata": {},
   "source": [
    "**Zadanie 3**. Przekonwertuj tablicę wartości zmiennoprzecinkowych na tablicę stringów. Następnie przekonwertuj tablicę stringów z powrotem na wartości zmiennoprzecinkowe."
   ]
  },
  {
   "cell_type": "code",
   "execution_count": 10,
   "id": "166997bf",
   "metadata": {},
   "outputs": [
    {
     "name": "stdout",
     "output_type": "stream",
     "text": [
      "Tablica stringów: ['3.14' '2.71' '1.41' '0.577' '1.618']\n",
      "Tablica wartości zmiennoprzecinkowych: [3.14  2.71  1.41  0.577 1.618]\n"
     ]
    }
   ],
   "source": [
    "\n",
    "# Tablica wartości zmiennoprzecinkowych\n",
    "float_array = np.array([3.14, 2.71, 1.41, 0.577, 1.618], dtype=np.float64)\n",
    "\n",
    "# Konwersja na tablicę stringów\n",
    "string_array = float_array.astype(str)\n",
    "print(\"Tablica stringów:\", string_array)\n",
    "\n",
    "# Konwersja z powrotem na wartości zmiennoprzecinkowe\n",
    "converted_float_array = string_array.astype(np.float64)\n",
    "print(\"Tablica wartości zmiennoprzecinkowych:\", converted_float_array)\n"
   ]
  },
  {
   "cell_type": "markdown",
   "id": "f9dc3c2d",
   "metadata": {},
   "source": [
    "**Zadanie 4**. Zaprezentuj przykład rozgłaszania na dowolnej dwuargumentowej operacji gdzie pierwszym argumentem jest tablica trójwymiarowa, a drugim argumentem tablica dwuwymiarowa."
   ]
  },
  {
   "cell_type": "code",
   "execution_count": 11,
   "id": "cc72112f",
   "metadata": {},
   "outputs": [
    {
     "name": "stdout",
     "output_type": "stream",
     "text": [
      "Tablica 3D:\n",
      " [[[ 0  1  2  3]\n",
      "  [ 4  5  6  7]\n",
      "  [ 8  9 10 11]]\n",
      "\n",
      " [[12 13 14 15]\n",
      "  [16 17 18 19]\n",
      "  [20 21 22 23]]]\n",
      "\n",
      "Tablica 2D:\n",
      " [[ 10  20  30  40]\n",
      " [ 50  60  70  80]\n",
      " [ 90 100 110 120]]\n",
      "\n",
      "Wynik dodawania z rozgłaszaniem:\n",
      " [[[ 10  21  32  43]\n",
      "  [ 54  65  76  87]\n",
      "  [ 98 109 120 131]]\n",
      "\n",
      " [[ 22  33  44  55]\n",
      "  [ 66  77  88  99]\n",
      "  [110 121 132 143]]]\n"
     ]
    }
   ],
   "source": [
    "# Tworzymy tablicę 3D o kształcie (2, 3, 4)\n",
    "array_3d = np.arange(24).reshape(2, 3, 4)\n",
    "print(\"Tablica 3D:\\n\", array_3d)\n",
    "\n",
    "# Tworzymy tablicę 2D o kształcie (3, 4)\n",
    "array_2d = np.array([[10, 20, 30, 40], \n",
    "                      [50, 60, 70, 80], \n",
    "                      [90, 100, 110, 120]])\n",
    "print(\"\\nTablica 2D:\\n\", array_2d)\n",
    "\n",
    "# Dodajemy tablicę 2D do tablicy 3D (broadcasting)\n",
    "result = array_3d + array_2d\n",
    "print(\"\\nWynik dodawania z rozgłaszaniem:\\n\", result)"
   ]
  },
  {
   "cell_type": "markdown",
   "id": "c3c46ade",
   "metadata": {},
   "source": [
    "**Zadanie 5**. Przeczytaj w dokumentacji zastosowanie następujących metod a następnie przetestuj ich działanie na dowolnej tablicy dwuwymiarowej:\n",
    "1. `sum`\n",
    "2. `mean`\n",
    "3. `std`\n",
    "4. `var`\n",
    "5. `min` \n",
    "6. `max`\n",
    "7. `argmin`\n",
    "8. `argmax`\n",
    "9. `cumsum`\n",
    "10. `cumprod`"
   ]
  },
  {
   "cell_type": "code",
   "execution_count": 12,
   "id": "df12f212",
   "metadata": {},
   "outputs": [
    {
     "name": "stdout",
     "output_type": "stream",
     "text": [
      "Tablica 2D:\n",
      " [[1 2 3]\n",
      " [4 5 6]\n",
      " [7 8 9]]\n",
      "Suma całej tablicy: 45\n",
      "Średnia całej tablicy: 5.0\n",
      "Odchylenie standardowe całej tablicy: 2.581988897471611\n",
      "Wariancja całej tablicy: 6.666666666666667\n",
      "Minimalna wartość w tablicy: 1\n",
      "Maksymalna wartość w tablicy: 9\n",
      "Indeks najmniejszego elementu (w 1D): 0\n",
      "Indeks największego elementu (w 1D): 8\n",
      "Skumulowana suma całej tablicy: [ 1  3  6 10 15 21 28 36 45]\n",
      "Skumulowany iloczyn całej tablicy: [     1      2      6     24    120    720   5040  40320 362880]\n"
     ]
    }
   ],
   "source": [
    "array_2d = np.array([[1, 2, 3], \n",
    "                      [4, 5, 6], \n",
    "                      [7, 8, 9]])\n",
    "\n",
    "print(\"Tablica 2D:\\n\", array_2d)\n",
    "\n",
    "print(\"Suma całej tablicy:\", array_2d.sum())\n",
    "\n",
    "\n",
    "\n",
    "print(\"Średnia całej tablicy:\", array_2d.mean())\n",
    "\n",
    "\n",
    "print(\"Odchylenie standardowe całej tablicy:\", array_2d.std())\n",
    "\n",
    "\n",
    "\n",
    "print(\"Wariancja całej tablicy:\", array_2d.var())\n",
    "\n",
    "\n",
    "print(\"Minimalna wartość w tablicy:\", array_2d.min())\n",
    "\n",
    "\n",
    "\n",
    "print(\"Maksymalna wartość w tablicy:\", array_2d.max())\n",
    "\n",
    "\n",
    "\n",
    "print(\"Indeks najmniejszego elementu (w 1D):\", array_2d.argmin())\n",
    "\n",
    "\n",
    "\n",
    "print(\"Indeks największego elementu (w 1D):\", array_2d.argmax())\n",
    "\n",
    "\n",
    "\n",
    "print(\"Skumulowana suma całej tablicy:\", array_2d.cumsum())\n",
    "\n",
    "\n",
    "\n",
    "print(\"Skumulowany iloczyn całej tablicy:\", array_2d.cumprod())\n",
    "\n"
   ]
  },
  {
   "cell_type": "markdown",
   "id": "cda2b346",
   "metadata": {},
   "source": [
    "**Zadanie 8.** Wygeneruj wektor stworzony z wektora [1, 2, 3], aby każdy element powtarzał się 4 razy i taka sekwencja była powtórzona 3-krotnie."
   ]
  },
  {
   "cell_type": "code",
   "execution_count": 13,
   "id": "500552a4",
   "metadata": {},
   "outputs": [
    {
     "name": "stdout",
     "output_type": "stream",
     "text": [
      "[1 1 1 1 2 2 2 2 3 3 3 3 1 1 1 1 2 2 2 2 3 3 3 3 1 1 1 1 2 2 2 2 3 3 3 3]\n"
     ]
    }
   ],
   "source": [
    "vector = np.array([1, 2, 3])\n",
    "\n",
    "repeated_elements = np.repeat(vector, 4)\n",
    "\n",
    "final_vector = np.tile(repeated_elements, 3)\n",
    "\n",
    "print(final_vector)"
   ]
  },
  {
   "cell_type": "markdown",
   "id": "f918fb1e",
   "metadata": {},
   "source": [
    "**Zadanie 9.** Wygeneruj wektor wartości od 1 do 10 co 0.25."
   ]
  },
  {
   "cell_type": "code",
   "execution_count": 14,
   "id": "e5a93911",
   "metadata": {},
   "outputs": [
    {
     "data": {
      "text/plain": [
       "array([1.  , 1.25, 1.5 , 1.75, 2.  , 2.25, 2.5 , 2.75, 3.  , 3.25, 3.5 ,\n",
       "       3.75, 4.  , 4.25, 4.5 , 4.75, 5.  , 5.25, 5.5 , 5.75, 6.  , 6.25,\n",
       "       6.5 , 6.75, 7.  , 7.25, 7.5 , 7.75, 8.  , 8.25, 8.5 , 8.75, 9.  ,\n",
       "       9.25, 9.5 , 9.75])"
      ]
     },
     "execution_count": 14,
     "metadata": {},
     "output_type": "execute_result"
    }
   ],
   "source": [
    "np.arange(1,10,0.25)"
   ]
  },
  {
   "cell_type": "markdown",
   "id": "122ed08c",
   "metadata": {},
   "source": [
    "**Zadanie 10.** Wygeneruj wektor 43 wartości równomiernie  od 1 do 10."
   ]
  },
  {
   "cell_type": "code",
   "execution_count": 15,
   "id": "98f4ec34",
   "metadata": {},
   "outputs": [
    {
     "name": "stdout",
     "output_type": "stream",
     "text": [
      "[ 1.          1.21428571  1.42857143  1.64285714  1.85714286  2.07142857\n",
      "  2.28571429  2.5         2.71428571  2.92857143  3.14285714  3.35714286\n",
      "  3.57142857  3.78571429  4.          4.21428571  4.42857143  4.64285714\n",
      "  4.85714286  5.07142857  5.28571429  5.5         5.71428571  5.92857143\n",
      "  6.14285714  6.35714286  6.57142857  6.78571429  7.          7.21428571\n",
      "  7.42857143  7.64285714  7.85714286  8.07142857  8.28571429  8.5\n",
      "  8.71428571  8.92857143  9.14285714  9.35714286  9.57142857  9.78571429\n",
      " 10.        ]\n"
     ]
    }
   ],
   "source": [
    "vector = np.linspace(1, 10, 43)\n",
    "\n",
    "print(vector)\n"
   ]
  },
  {
   "cell_type": "markdown",
   "id": "af8d4d0b",
   "metadata": {},
   "source": [
    "**Zadanie 11.** Wyświetl co trzeci element z powyższego wektora."
   ]
  },
  {
   "cell_type": "code",
   "execution_count": 16,
   "id": "fc23200f",
   "metadata": {},
   "outputs": [
    {
     "data": {
      "text/plain": [
       "array([ 1.        ,  1.64285714,  2.28571429,  2.92857143,  3.57142857,\n",
       "        4.21428571,  4.85714286,  5.5       ,  6.14285714,  6.78571429,\n",
       "        7.42857143,  8.07142857,  8.71428571,  9.35714286, 10.        ])"
      ]
     },
     "execution_count": 16,
     "metadata": {},
     "output_type": "execute_result"
    }
   ],
   "source": [
    "vector[::3]"
   ]
  },
  {
   "cell_type": "markdown",
   "id": "1f089fa0",
   "metadata": {},
   "source": [
    "**Zadanie 12.** Wyjaśnij wynik działania komendy `np.arange(6) – 1`"
   ]
  },
  {
   "cell_type": "code",
   "execution_count": 17,
   "id": "aeb703b6",
   "metadata": {},
   "outputs": [
    {
     "data": {
      "text/plain": [
       "array([-1,  0,  1,  2,  3,  4])"
      ]
     },
     "execution_count": 17,
     "metadata": {},
     "output_type": "execute_result"
    }
   ],
   "source": [
    "np.arange(6) -1\n",
    "\n",
    "#od każdego elementu odejmowane jest 1"
   ]
  },
  {
   "cell_type": "markdown",
   "id": "6be713c5",
   "metadata": {},
   "source": [
    "**Zadanie 13.** Utwórz macierz o 3 wierszach i 2 kolumnach poprzez:  \n",
    "1. wypełnienie jej wierszowo wektorem (1,2,3,4,5,6),  \n",
    "1. wypełnienie jej kolumnowo wektorem (1,2,3,4,5,6),  \n",
    "1. złożenie wektorów (1,2,3) i (4,5,6),  \n",
    "1. złożenie wektorów (1,4), (2,5) i (3,6).  "
   ]
  },
  {
   "cell_type": "code",
   "execution_count": 18,
   "id": "79160f7e",
   "metadata": {},
   "outputs": [
    {
     "name": "stdout",
     "output_type": "stream",
     "text": [
      "Macierz wypełniona wierszowo:\n",
      " [[1 2]\n",
      " [3 4]\n",
      " [5 6]]\n"
     ]
    }
   ],
   "source": [
    "vector1 = np.array([1, 2, 3, 4, 5, 6])\n",
    "\n",
    "matrix1 = vector1.reshape(3, 2)\n",
    "\n",
    "print(\"Macierz wypełniona wierszowo:\\n\", matrix1)"
   ]
  },
  {
   "cell_type": "code",
   "execution_count": 19,
   "id": "958636ec",
   "metadata": {},
   "outputs": [
    {
     "name": "stdout",
     "output_type": "stream",
     "text": [
      "Macierz wypełniona kolumnowo:\n",
      " [[1 4]\n",
      " [2 5]\n",
      " [3 6]]\n"
     ]
    }
   ],
   "source": [
    "vector2 = np.array([1, 2, 3, 4, 5, 6])\n",
    "\n",
    "matrix2 = vector2.reshape(2, 3).T\n",
    "print(\"Macierz wypełniona kolumnowo:\\n\", matrix2)\n"
   ]
  },
  {
   "cell_type": "code",
   "execution_count": 20,
   "id": "91a91431",
   "metadata": {},
   "outputs": [
    {
     "name": "stdout",
     "output_type": "stream",
     "text": [
      "Złożenie wektorów (1,2,3) i (4,5,6):\n",
      " [[1 2 3]\n",
      " [4 5 6]]\n"
     ]
    }
   ],
   "source": [
    "vector3 = np.array([1, 2, 3])\n",
    "vector4 = np.array([4, 5, 6])\n",
    "\n",
    "matrix3 = np.vstack((vector3, vector4))\n",
    "print(\"Złożenie wektorów (1,2,3) i (4,5,6):\\n\", matrix3)\n"
   ]
  },
  {
   "cell_type": "code",
   "execution_count": 21,
   "id": "68d27bf0",
   "metadata": {},
   "outputs": [
    {
     "name": "stdout",
     "output_type": "stream",
     "text": [
      "Złożenie wektorów (1,4), (2,5), (3,6):\n",
      " [[1 2 3]\n",
      " [4 5 6]]\n"
     ]
    }
   ],
   "source": [
    "vector5 = np.array([1, 4])\n",
    "vector6 = np.array([2, 5])\n",
    "vector7 = np.array([3, 6])\n",
    "\n",
    "matrix4 = np.column_stack((vector5, vector6, vector7))\n",
    "print(\"Złożenie wektorów (1,4), (2,5), (3,6):\\n\", matrix4)\n"
   ]
  },
  {
   "cell_type": "markdown",
   "id": "7127cd3a",
   "metadata": {},
   "source": [
    "**Zadanie 14.** Utwórz macierz A o 6 wierszach i 6 kolumnach wypełnioną wierszowo liczbami od 1 do 36. Następnie korzystając z indeksowania utwórz macierz B:\n",
    "1. o 3 wierszach i 3 kolumnach zawierającą elementy z wierszy o parzystych numerach i kolumn o nieparzystych numerach z macierzy A, przy czym kolumny w odwrotnej kolejności, czyli: pierwszy wiersz macierzy B będzie zawierał liczby 11, 9, 7, drugi 23, 21, 19, a trzeci 35, 33 i 31,\n",
    "1. składającą się z dwóch ostatnich wierszy macierzy A,\n",
    "1. składającą się z dwóch środkowych kolumn macierzy A,"
   ]
  },
  {
   "cell_type": "code",
   "execution_count": 22,
   "id": "194b10e6",
   "metadata": {},
   "outputs": [
    {
     "name": "stdout",
     "output_type": "stream",
     "text": [
      "Matrix A:\n",
      "[[ 1  2  3  4  5  6]\n",
      " [ 7  8  9 10 11 12]\n",
      " [13 14 15 16 17 18]\n",
      " [19 20 21 22 23 24]\n",
      " [25 26 27 28 29 30]\n",
      " [31 32 33 34 35 36]]\n",
      "\n",
      "Matrix B1:\n",
      "[[11  9  7]\n",
      " [23 21 19]\n",
      " [35 33 31]]\n",
      "\n",
      "Matrix B2:\n",
      "[[25 26 27 28 29 30]\n",
      " [31 32 33 34 35 36]]\n",
      "\n",
      "Matrix B3:\n",
      "[[ 3  4]\n",
      " [ 9 10]\n",
      " [15 16]\n",
      " [21 22]\n",
      " [27 28]\n",
      " [33 34]]\n"
     ]
    }
   ],
   "source": [
    "# Step 1: Create Matrix A\n",
    "A = np.arange(1, 37).reshape(6, 6)\n",
    "\n",
    "# Part 1: Extract even rows and reversed odd columns\n",
    "B1 = A[1::2, [4, 2, 0]] \n",
    "\n",
    "# Part 2: Extract last two rows\n",
    "B2 = A[-2:, :]\n",
    "\n",
    "# Part 3: Extract two middle columns\n",
    "B3 = A[:, 2:4]\n",
    "\n",
    "# Print results\n",
    "print(\"Matrix A:\")\n",
    "print(A)\n",
    "print(\"\\nMatrix B1:\")\n",
    "print(B1)\n",
    "print(\"\\nMatrix B2:\")\n",
    "print(B2)\n",
    "print(\"\\nMatrix B3:\")\n",
    "print(B3)"
   ]
  },
  {
   "cell_type": "markdown",
   "id": "d0b64f0b",
   "metadata": {},
   "source": [
    "**Zadanie 15**. Posortuj poniższą tablicę w wierszach."
   ]
  },
  {
   "cell_type": "code",
   "execution_count": 23,
   "id": "96c4388a",
   "metadata": {},
   "outputs": [
    {
     "name": "stdout",
     "output_type": "stream",
     "text": [
      "[[1 2 5 6]\n",
      " [1 3 4 8]\n",
      " [2 4 7 8]]\n"
     ]
    }
   ],
   "source": [
    "T = np.array([[5,2,1,6],[4,8,3,1],[2,4,7,8]])\n",
    "T_sorted = np.sort(T, axis=1)\n",
    "print(T_sorted)"
   ]
  },
  {
   "cell_type": "markdown",
   "id": "5ad00d5e",
   "metadata": {},
   "source": [
    "**Zadanie 16**. Posortuj powyższą tablicę w kolumnach."
   ]
  },
  {
   "cell_type": "code",
   "execution_count": 24,
   "id": "b661f255",
   "metadata": {},
   "outputs": [
    {
     "name": "stdout",
     "output_type": "stream",
     "text": [
      "[[2 2 1 1]\n",
      " [4 4 3 6]\n",
      " [5 8 7 8]]\n"
     ]
    }
   ],
   "source": [
    "T_sorted_columns = np.sort(T, axis=0)\n",
    "print(T_sorted_columns)"
   ]
  },
  {
   "cell_type": "markdown",
   "id": "cbbf5545",
   "metadata": {},
   "source": [
    "**Zadanie 17**. Za pomocą `np.argsort()` podaj numery elementów oryginalnej tablicy w każdym wierszu, gdyby była ona posortowana w wierszach."
   ]
  },
  {
   "cell_type": "code",
   "execution_count": 25,
   "id": "b732f657",
   "metadata": {},
   "outputs": [
    {
     "name": "stdout",
     "output_type": "stream",
     "text": [
      "[[2 1 0 3]\n",
      " [3 2 0 1]\n",
      " [0 1 2 3]]\n"
     ]
    }
   ],
   "source": [
    "row_indices = np.argsort(T, axis=1)\n",
    "print(row_indices)"
   ]
  },
  {
   "cell_type": "markdown",
   "id": "91e40628",
   "metadata": {},
   "source": [
    "**Zadanie 18**. Poniższą tablicę posortuj zgodnie z porządkiem leksykograficznym na podstawie kolumny drugiej, w następnej kolejności na podstawie kolumny czwartej, a ostatecznie szóstej."
   ]
  },
  {
   "cell_type": "code",
   "execution_count": 26,
   "id": "afa21f6d",
   "metadata": {},
   "outputs": [
    {
     "name": "stdout",
     "output_type": "stream",
     "text": [
      "[[5 2 5 2 7 4]\n",
      " [2 2 1 5 4 3]\n",
      " [1 3 1 1 2 2]\n",
      " [1 3 4 1 4 5]]\n"
     ]
    }
   ],
   "source": [
    "T = np.array([[5,2,5,2,7,4],[2,2,1,5,4,3],[1,3,4,1,4,5],[1,3,1,1,2,2]])\n",
    "\n",
    "keys = (T[:,5],   \n",
    "        T[:,3],   \n",
    "        T[:,1])  \n",
    "\n",
    "sorted_indices = np.lexsort(keys)\n",
    "\n",
    "sorted_T = T[sorted_indices]\n",
    "\n",
    "print(sorted_T)"
   ]
  },
  {
   "cell_type": "markdown",
   "id": "191b59a9",
   "metadata": {},
   "source": [
    "**Zadanie 19**. Za pomocą `np.hsplit()` podziel powyższą tablicę na 3 równe części."
   ]
  },
  {
   "cell_type": "code",
   "execution_count": 27,
   "id": "c4606ee4",
   "metadata": {},
   "outputs": [
    {
     "name": "stdout",
     "output_type": "stream",
     "text": [
      "Tablica 1:\n",
      " [[5 2]\n",
      " [2 2]\n",
      " [1 3]\n",
      " [1 3]]\n",
      "Tablica 2:\n",
      " [[5 2]\n",
      " [1 5]\n",
      " [4 1]\n",
      " [1 1]]\n",
      "Tablica 3:\n",
      " [[7 4]\n",
      " [4 3]\n",
      " [4 5]\n",
      " [2 2]]\n"
     ]
    }
   ],
   "source": [
    "split_arrays = np.hsplit(T, 3)\n",
    "\n",
    "for i, subarray in enumerate(split_arrays):\n",
    "    print(f\"Tablica {i+1}:\\n\", subarray)"
   ]
  },
  {
   "cell_type": "markdown",
   "id": "860a609e",
   "metadata": {},
   "source": [
    "**Zadanie 20**. Za pomocą `np.hsplit()` podziel powyższą tablicę na 4 części tak, aby w pierwszej , trzeciej i czwartej części znalazła się tylko jedna kolumna, a w drugiej części 3 kolumny."
   ]
  },
  {
   "cell_type": "code",
   "execution_count": 28,
   "id": "feea5cd0",
   "metadata": {},
   "outputs": [
    {
     "name": "stdout",
     "output_type": "stream",
     "text": [
      "Tablica 1:\n",
      " [[5]\n",
      " [2]\n",
      " [1]\n",
      " [1]]\n",
      "Tablica 2:\n",
      " [[2 5 2]\n",
      " [2 1 5]\n",
      " [3 4 1]\n",
      " [3 1 1]]\n",
      "Tablica 3:\n",
      " [[7]\n",
      " [4]\n",
      " [4]\n",
      " [2]]\n",
      "Tablica 4:\n",
      " [[4]\n",
      " [3]\n",
      " [5]\n",
      " [2]]\n"
     ]
    }
   ],
   "source": [
    "split_arrays_next = np.hsplit(T, [1,4,5])\n",
    "\n",
    "for i, subarray in enumerate(split_arrays_next):\n",
    "    print(f\"Tablica {i+1}:\\n\", subarray)"
   ]
  },
  {
   "cell_type": "markdown",
   "id": "7f69323a",
   "metadata": {},
   "source": [
    "**Zadanie 21**. Za pomocą `np.vsplit()` podziel powyższą tablicę na 3 dowolne części."
   ]
  },
  {
   "cell_type": "code",
   "execution_count": 29,
   "id": "c4e1f051",
   "metadata": {},
   "outputs": [
    {
     "name": "stdout",
     "output_type": "stream",
     "text": [
      "Tablica 1:\n",
      " [[5 2 5 2 7 4]\n",
      " [2 2 1 5 4 3]]\n",
      "Tablica 2:\n",
      " [[1 3 4 1 4 5]]\n",
      "Tablica 3:\n",
      " [[1 3 1 1 2 2]]\n"
     ]
    }
   ],
   "source": [
    "T_split = np.vsplit(T, [2,3])\n",
    "\n",
    "for i, subarray in enumerate(T_split):\n",
    "    print(f\"Tablica {i+1}:\\n\", subarray)"
   ]
  },
  {
   "cell_type": "markdown",
   "id": "756a20c3",
   "metadata": {},
   "source": [
    "**Zadanie 22**. W trzech powyższych zadaniach, po podziale scal z powrotem części w jedną tablicę za pomocą `np.vstack()` lub `np.hstack()`."
   ]
  },
  {
   "cell_type": "code",
   "execution_count": 30,
   "id": "22dd5a64",
   "metadata": {},
   "outputs": [
    {
     "name": "stdout",
     "output_type": "stream",
     "text": [
      "[[5 2 5 2 7 4]\n",
      " [2 2 1 5 4 3]\n",
      " [1 3 4 1 4 5]\n",
      " [1 3 1 1 2 2]]\n"
     ]
    }
   ],
   "source": [
    "T_stack = np.vstack(T_split)\n",
    "print(T_stack)"
   ]
  },
  {
   "cell_type": "markdown",
   "id": "1d7a2fff",
   "metadata": {},
   "source": [
    "**Zadanie 23**. Co robi z wektorem *w* poniższa operacja?"
   ]
  },
  {
   "cell_type": "code",
   "execution_count": 31,
   "id": "1168733a",
   "metadata": {},
   "outputs": [
    {
     "name": "stdout",
     "output_type": "stream",
     "text": [
      "[[ 1]\n",
      " [ 2]\n",
      " [ 3]\n",
      " [ 4]\n",
      " [ 5]\n",
      " [ 6]\n",
      " [ 7]\n",
      " [ 8]\n",
      " [ 9]\n",
      " [10]]\n"
     ]
    }
   ],
   "source": [
    "w = np.arange(1,11)\n",
    "w1 = w[:, np.newaxis]\n",
    "print(w1)"
   ]
  },
  {
   "cell_type": "markdown",
   "id": "b31c2132",
   "metadata": {},
   "source": [
    "**Zadanie 24**. Co stanie się, jeżeli w powyszej opercji zamienimy pozycje indeksowania?"
   ]
  },
  {
   "cell_type": "code",
   "execution_count": 32,
   "id": "79d9bf49",
   "metadata": {},
   "outputs": [
    {
     "name": "stdout",
     "output_type": "stream",
     "text": [
      "[ 1  2  3  4  5  6  7  8  9 10]\n"
     ]
    }
   ],
   "source": [
    "w = np.arange(1,11)\n",
    "w2 = w[np.newaxis, :]\n",
    "print(w)"
   ]
  },
  {
   "cell_type": "markdown",
   "id": "15e06c7a",
   "metadata": {},
   "source": [
    "**Zadanie 25**. Korzystając z powyższego wektora i operatora `*`, wykorzystaj rozgłaszanie do wyliczenia tabliczki mnożenia do 100."
   ]
  },
  {
   "cell_type": "code",
   "execution_count": 33,
   "id": "087ba63f",
   "metadata": {},
   "outputs": [
    {
     "name": "stdout",
     "output_type": "stream",
     "text": [
      "[[  1   2   3   4   5   6   7   8   9  10]\n",
      " [  2   4   6   8  10  12  14  16  18  20]\n",
      " [  3   6   9  12  15  18  21  24  27  30]\n",
      " [  4   8  12  16  20  24  28  32  36  40]\n",
      " [  5  10  15  20  25  30  35  40  45  50]\n",
      " [  6  12  18  24  30  36  42  48  54  60]\n",
      " [  7  14  21  28  35  42  49  56  63  70]\n",
      " [  8  16  24  32  40  48  56  64  72  80]\n",
      " [  9  18  27  36  45  54  63  72  81  90]\n",
      " [ 10  20  30  40  50  60  70  80  90 100]]\n"
     ]
    }
   ],
   "source": [
    "tabliczka = w1*w2\n",
    "print(tabliczka)"
   ]
  },
  {
   "cell_type": "markdown",
   "id": "562ed5a6",
   "metadata": {},
   "source": [
    "**Zadanie 26**. Wykorzystaj funkcję `np.nonzero()` aby uzyskać indeksy wierszy i kolumn wszystkich elementów z tablicy z zadania 10, która są jednocześnie nie mniejsze od 2 i mniejsze od 7. Wypisz wszystkie takie pary (nr_wiersza, nr_kolumny) na ekranie (podpowiedź: komenda `zip`)."
   ]
  },
  {
   "cell_type": "code",
   "execution_count": 34,
   "id": "5582663e",
   "metadata": {},
   "outputs": [
    {
     "name": "stdout",
     "output_type": "stream",
     "text": [
      "(5, 2.07)\n",
      "(6, 2.29)\n",
      "(7, 2.50)\n",
      "(8, 2.71)\n",
      "(9, 2.93)\n",
      "(10, 3.14)\n",
      "(11, 3.36)\n",
      "(12, 3.57)\n",
      "(13, 3.79)\n",
      "(14, 4.00)\n",
      "(15, 4.21)\n",
      "(16, 4.43)\n",
      "(17, 4.64)\n",
      "(18, 4.86)\n",
      "(19, 5.07)\n",
      "(20, 5.29)\n",
      "(21, 5.50)\n",
      "(22, 5.71)\n",
      "(23, 5.93)\n",
      "(24, 6.14)\n",
      "(25, 6.36)\n",
      "(26, 6.57)\n",
      "(27, 6.79)\n"
     ]
    }
   ],
   "source": [
    "vector64 = np.linspace(1, 10, 43)\n",
    "\n",
    "indices = np.nonzero((vector64 >= 2) & (vector64 < 7))[0]\n",
    "\n",
    "for index, value in zip(indices, vector64[indices]):\n",
    "    print(f\"({index}, {value:.2f})\")"
   ]
  },
  {
   "cell_type": "markdown",
   "id": "2302def0",
   "metadata": {},
   "source": [
    "**Zadanie 27**. Korzystając z `np.unique()`, w poniższym wektorze znajdź wszystkie elementy unikatowe, ich indeksy oraz liczbę powtórzeń każdego z nich."
   ]
  },
  {
   "cell_type": "code",
   "execution_count": 35,
   "id": "3524a05f",
   "metadata": {},
   "outputs": [],
   "source": [
    "w = np.array([1,2,2,2,3,1,3,1,4,4,5,6,5,7,8,8])"
   ]
  },
  {
   "cell_type": "code",
   "execution_count": 36,
   "id": "90c7dd01",
   "metadata": {},
   "outputs": [
    {
     "name": "stdout",
     "output_type": "stream",
     "text": [
      "Unikalne wartości: [1 2 3 4 5 6 7 8]\n",
      "Indeksy pierwszego wystąpienia: [ 0  1  4  8 10 11 13 14]\n",
      "Liczba powtórzeń: [3 3 2 2 2 1 1 2]\n"
     ]
    }
   ],
   "source": [
    "unique_values, indices, counts = np.unique(w, return_index=True, return_counts=True)\n",
    "\n",
    "# Wyświetl wyniki\n",
    "print(\"Unikalne wartości:\", unique_values)\n",
    "print(\"Indeksy pierwszego wystąpienia:\", indices)\n",
    "print(\"Liczba powtórzeń:\", counts)\n",
    "\n"
   ]
  },
  {
   "cell_type": "markdown",
   "id": "e2f192d2",
   "metadata": {},
   "source": [
    "**Zadanie 28**. Korzystając z `np.unique()`, w poniższej tablicy znajdź wszystkie unikatowe wiersze, ich indeksy oraz liczbę powtórzeń każdego z nich."
   ]
  },
  {
   "cell_type": "code",
   "execution_count": 37,
   "id": "90b1081f",
   "metadata": {},
   "outputs": [
    {
     "name": "stdout",
     "output_type": "stream",
     "text": [
      "Unikalne wiersze:\n",
      "[[1 2]\n",
      " [1 4]\n",
      " [2 1]\n",
      " [2 2]\n",
      " [2 3]\n",
      " [3 2]]\n",
      "\n",
      "Indeksy pierwszych wystąpień: [0 7 1 2 4 5]\n",
      "Liczba powtórzeń: [2 1 2 2 1 1]\n"
     ]
    }
   ],
   "source": [
    "T = np.array([[1,2],[2,1],[2,2],[2,2],[2,3],[3,2],[1,2],[1,4],[2,1]])\n",
    "\n",
    "unique_rows, indices, counts = np.unique(T, axis=0, return_index=True, return_counts=True)\n",
    "\n",
    "print(\"Unikalne wiersze:\")\n",
    "print(unique_rows)\n",
    "print(\"\\nIndeksy pierwszych wystąpień:\", indices)\n",
    "print(\"Liczba powtórzeń:\", counts)"
   ]
  },
  {
   "cell_type": "markdown",
   "id": "72acc3f2",
   "metadata": {},
   "source": [
    "**Zadanie 29** (*). Podczas ostatniego wykładu podano cztery sposoby liczenia odległości między klastrami. Wczytaj klastry z plików `klaster A.csv`, `klaster B.csv` i `klaster C.csv` za pomocą `np.loadtxt()`. Następnie wylicz odległości między każdą parą klastrów na każdy z czterech sposobów korzystając z możliwości NumPy. "
   ]
  },
  {
   "cell_type": "markdown",
   "id": "ef2bc309",
   "metadata": {},
   "source": [
    "**Zadanie 30** (*). Dla każdego sposobu pomiaru odległości pomiędzy klastrami wylicz miarę $wc(C)/bc(C)$."
   ]
  }
 ],
 "metadata": {
  "kernelspec": {
   "display_name": "Python 3",
   "language": "python",
   "name": "python3"
  },
  "language_info": {
   "codemirror_mode": {
    "name": "ipython",
    "version": 3
   },
   "file_extension": ".py",
   "mimetype": "text/x-python",
   "name": "python",
   "nbconvert_exporter": "python",
   "pygments_lexer": "ipython3",
   "version": "3.12.1"
  }
 },
 "nbformat": 4,
 "nbformat_minor": 5
}
